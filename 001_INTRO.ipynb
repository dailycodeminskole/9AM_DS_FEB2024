{
 "cells": [
  {
   "cell_type": "markdown",
   "id": "bc0e8b47",
   "metadata": {},
   "source": [
    "# INTRO TO JUPYTER NOTEBOOK"
   ]
  },
  {
   "cell_type": "code",
   "execution_count": 6,
   "id": "677d94d6",
   "metadata": {},
   "outputs": [],
   "source": [
    "# 1. CMD\n",
    "# 2. jupyter notebook > this service/ widow should always be running\n",
    "# 3. default location > http://localhost:8888/tree\n",
    "# 4. / means C:\\ is root Folder\n",
    "# 5. Create a new Python file"
   ]
  },
  {
   "cell_type": "code",
   "execution_count": 7,
   "id": "494d0461",
   "metadata": {},
   "outputs": [],
   "source": [
    "# 9324387590"
   ]
  },
  {
   "cell_type": "markdown",
   "id": "737ec2fa",
   "metadata": {},
   "source": [
    "# INTRO TO NUMPY"
   ]
  },
  {
   "cell_type": "code",
   "execution_count": 9,
   "id": "518c2010",
   "metadata": {},
   "outputs": [],
   "source": [
    "# https://numpy.org/doc/stable/user/quickstart.html#an-example"
   ]
  },
  {
   "cell_type": "markdown",
   "id": "fd1ee84a",
   "metadata": {},
   "source": [
    "##WHY NUMPY ???"
   ]
  },
  {
   "cell_type": "code",
   "execution_count": 11,
   "id": "d9238c40",
   "metadata": {},
   "outputs": [
    {
     "name": "stdout",
     "output_type": "stream",
     "text": [
      "[1, 2, 3, 4, 5, 6, 7, 8, 9]\n"
     ]
    }
   ],
   "source": [
    "a1 = [1,2,3,4,5,6,7,8,9]\n",
    "print(a1)"
   ]
  },
  {
   "cell_type": "code",
   "execution_count": 14,
   "id": "b341d60b",
   "metadata": {},
   "outputs": [
    {
     "name": "stdout",
     "output_type": "stream",
     "text": [
      "2\n",
      "4\n",
      "6\n",
      "8\n",
      "10\n",
      "12\n",
      "14\n",
      "16\n",
      "18\n"
     ]
    }
   ],
   "source": [
    "#  to double the elements in the list a1\n",
    "for i in a1:\n",
    "    print(i*2)"
   ]
  },
  {
   "cell_type": "code",
   "execution_count": 15,
   "id": "57e03930",
   "metadata": {},
   "outputs": [
    {
     "name": "stdout",
     "output_type": "stream",
     "text": [
      "[2, 4, 6, 8, 10, 12, 14, 16, 18]\n"
     ]
    }
   ],
   "source": [
    "a2 = [i*2 for i in a1] #list comprehension\n",
    "print(a2)"
   ]
  },
  {
   "cell_type": "code",
   "execution_count": null,
   "id": "ce0534d2",
   "metadata": {},
   "outputs": [],
   "source": [
    "#  to square the elements in the list a1"
   ]
  },
  {
   "cell_type": "code",
   "execution_count": 17,
   "id": "8e9c6c62",
   "metadata": {},
   "outputs": [
    {
     "name": "stdout",
     "output_type": "stream",
     "text": [
      "[1, 2, 3, 4, 5, 6, 7, 8, 9]\n",
      "1\n",
      "4\n",
      "9\n",
      "16\n",
      "25\n",
      "36\n",
      "49\n",
      "64\n",
      "81\n"
     ]
    }
   ],
   "source": [
    "print(a1)\n",
    "for i in a1:\n",
    "    print(i**2)"
   ]
  },
  {
   "cell_type": "code",
   "execution_count": 19,
   "id": "7dd73f02",
   "metadata": {},
   "outputs": [
    {
     "name": "stdout",
     "output_type": "stream",
     "text": [
      "[1, 4, 9, 16, 25, 36, 49, 64, 81]\n"
     ]
    }
   ],
   "source": [
    "a3 = [i**2 for i in a1]\n",
    "print(a3)"
   ]
  },
  {
   "cell_type": "markdown",
   "id": "f8b26a40",
   "metadata": {},
   "source": [
    "## better approach ???"
   ]
  },
  {
   "cell_type": "code",
   "execution_count": 21,
   "id": "148c1d7e",
   "metadata": {},
   "outputs": [],
   "source": [
    "import numpy as np"
   ]
  },
  {
   "cell_type": "code",
   "execution_count": 22,
   "id": "75d5f843",
   "metadata": {},
   "outputs": [
    {
     "name": "stdout",
     "output_type": "stream",
     "text": [
      "hello world\n"
     ]
    }
   ],
   "source": [
    "print(\"hello world\")"
   ]
  },
  {
   "cell_type": "code",
   "execution_count": 23,
   "id": "11e6e2ac",
   "metadata": {},
   "outputs": [
    {
     "name": "stdout",
     "output_type": "stream",
     "text": [
      "rakesh\n"
     ]
    }
   ],
   "source": [
    "name  = \"Rakesh\"\n",
    "print(name.casefold())"
   ]
  },
  {
   "cell_type": "code",
   "execution_count": 24,
   "id": "5810b935",
   "metadata": {},
   "outputs": [],
   "source": [
    "arr1 = np.array(a1)"
   ]
  },
  {
   "cell_type": "code",
   "execution_count": 25,
   "id": "3dcb3297",
   "metadata": {},
   "outputs": [
    {
     "name": "stdout",
     "output_type": "stream",
     "text": [
      "[1 2 3 4 5 6 7 8 9]\n"
     ]
    }
   ],
   "source": [
    "print(arr1)"
   ]
  },
  {
   "cell_type": "code",
   "execution_count": 26,
   "id": "d21f10c3",
   "metadata": {},
   "outputs": [
    {
     "name": "stdout",
     "output_type": "stream",
     "text": [
      "[1, 2, 3, 4, 5, 6, 7, 8, 9]\n"
     ]
    }
   ],
   "source": [
    "print(a1)"
   ]
  },
  {
   "cell_type": "code",
   "execution_count": 27,
   "id": "f658a3d0",
   "metadata": {},
   "outputs": [
    {
     "data": {
      "text/plain": [
       "[1, 2, 3, 4, 5, 6, 7, 8, 9, 1, 2, 3, 4, 5, 6, 7, 8, 9]"
      ]
     },
     "execution_count": 27,
     "metadata": {},
     "output_type": "execute_result"
    }
   ],
   "source": [
    "a1*2"
   ]
  },
  {
   "cell_type": "code",
   "execution_count": 28,
   "id": "59611af7",
   "metadata": {},
   "outputs": [
    {
     "name": "stdout",
     "output_type": "stream",
     "text": [
      "[ 2  4  6  8 10 12 14 16 18]\n"
     ]
    }
   ],
   "source": [
    "print(arr1*2)# numpy supports elemntwise operation "
   ]
  },
  {
   "cell_type": "code",
   "execution_count": 29,
   "id": "97e2f291",
   "metadata": {},
   "outputs": [
    {
     "name": "stdout",
     "output_type": "stream",
     "text": [
      "[  1   8  27  64 125 216 343 512 729]\n"
     ]
    }
   ],
   "source": [
    "print(arr1**3)"
   ]
  },
  {
   "cell_type": "code",
   "execution_count": null,
   "id": "8a4f20be",
   "metadata": {},
   "outputs": [],
   "source": []
  }
 ],
 "metadata": {
  "kernelspec": {
   "display_name": "Python 3 (ipykernel)",
   "language": "python",
   "name": "python3"
  },
  "language_info": {
   "codemirror_mode": {
    "name": "ipython",
    "version": 3
   },
   "file_extension": ".py",
   "mimetype": "text/x-python",
   "name": "python",
   "nbconvert_exporter": "python",
   "pygments_lexer": "ipython3",
   "version": "3.10.5"
  }
 },
 "nbformat": 4,
 "nbformat_minor": 5
}
