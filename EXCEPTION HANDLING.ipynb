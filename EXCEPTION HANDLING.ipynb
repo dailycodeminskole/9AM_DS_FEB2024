{
 "cells": [
  {
   "cell_type": "markdown",
   "id": "21c3cab9",
   "metadata": {},
   "source": [
    "# EXCEPTION HANDLING"
   ]
  },
  {
   "cell_type": "code",
   "execution_count": 1,
   "id": "dc7fd9af",
   "metadata": {},
   "outputs": [],
   "source": [
    "# why to  hhandle exceptions ?\n",
    "# exceptions vs Syntax Errors\n",
    "\n",
    "\n",
    "\n",
    "\n",
    "\n",
    "# 1. BUILT IN\n",
    "# 2. USER DEFINE/CUSTOM\n",
    "#          RAISING ERROR/EXCEPTON"
   ]
  },
  {
   "cell_type": "code",
   "execution_count": 11,
   "id": "377ef3a8",
   "metadata": {},
   "outputs": [
    {
     "name": "stdout",
     "output_type": "stream",
     "text": [
      "0.5\n"
     ]
    },
    {
     "ename": "ZeroDivisionError",
     "evalue": "division by zero",
     "output_type": "error",
     "traceback": [
      "\u001b[1;31m---------------------------------------------------------------------------\u001b[0m",
      "\u001b[1;31mZeroDivisionError\u001b[0m                         Traceback (most recent call last)",
      "Input \u001b[1;32mIn [11]\u001b[0m, in \u001b[0;36m<cell line: 8>\u001b[1;34m()\u001b[0m\n\u001b[0;32m      4\u001b[0m c \u001b[38;5;241m=\u001b[39m \u001b[38;5;241m0\u001b[39m\n\u001b[0;32m      7\u001b[0m \u001b[38;5;28mprint\u001b[39m(a\u001b[38;5;241m/\u001b[39mb)\n\u001b[1;32m----> 8\u001b[0m \u001b[38;5;28mprint\u001b[39m(\u001b[43ma\u001b[49m\u001b[38;5;241;43m/\u001b[39;49m\u001b[43mc\u001b[49m)\n\u001b[0;32m      9\u001b[0m \u001b[38;5;28mprint\u001b[39m(\u001b[38;5;124m'\u001b[39m\u001b[38;5;124mHello World\u001b[39m\u001b[38;5;124m'\u001b[39m)\n",
      "\u001b[1;31mZeroDivisionError\u001b[0m: division by zero"
     ]
    }
   ],
   "source": [
    "# eg \n",
    "a = 100\n",
    "b = 200\n",
    "c = 0\n",
    "\n",
    "\n",
    "print(a/b)\n",
    "print(a/c) #this is an exception\n",
    "print('Hello World')"
   ]
  },
  {
   "cell_type": "code",
   "execution_count": 12,
   "id": "5114478c",
   "metadata": {},
   "outputs": [
    {
     "ename": "SyntaxError",
     "evalue": "unterminated string literal (detected at line 2) (711425579.py, line 2)",
     "output_type": "error",
     "traceback": [
      "\u001b[1;36m  Input \u001b[1;32mIn [12]\u001b[1;36m\u001b[0m\n\u001b[1;33m    print('Hello World)\u001b[0m\n\u001b[1;37m          ^\u001b[0m\n\u001b[1;31mSyntaxError\u001b[0m\u001b[1;31m:\u001b[0m unterminated string literal (detected at line 2)\n"
     ]
    }
   ],
   "source": [
    "# Error means Syntax error\n",
    "# this has to be changed manually \n",
    "print('Hello World)"
   ]
  },
  {
   "cell_type": "code",
   "execution_count": 16,
   "id": "41331ddf",
   "metadata": {},
   "outputs": [
    {
     "name": "stdout",
     "output_type": "stream",
     "text": [
      "MANSI\n",
      "M\n",
      "A\n"
     ]
    },
    {
     "ename": "IndexError",
     "evalue": "string index out of range",
     "output_type": "error",
     "traceback": [
      "\u001b[1;31m---------------------------------------------------------------------------\u001b[0m",
      "\u001b[1;31mIndexError\u001b[0m                                Traceback (most recent call last)",
      "Input \u001b[1;32mIn [16]\u001b[0m, in \u001b[0;36m<cell line: 6>\u001b[1;34m()\u001b[0m\n\u001b[0;32m      4\u001b[0m \u001b[38;5;28mprint\u001b[39m(name[\u001b[38;5;241m0\u001b[39m])\n\u001b[0;32m      5\u001b[0m \u001b[38;5;28mprint\u001b[39m(name[\u001b[38;5;241m1\u001b[39m])\n\u001b[1;32m----> 6\u001b[0m \u001b[38;5;28mprint\u001b[39m(\u001b[43mname\u001b[49m\u001b[43m[\u001b[49m\u001b[38;5;241;43m7\u001b[39;49m\u001b[43m]\u001b[49m)\n",
      "\u001b[1;31mIndexError\u001b[0m: string index out of range"
     ]
    }
   ],
   "source": [
    "# eg\n",
    "name  = 'MANSI'\n",
    "print(name)\n",
    "print(name[0])\n",
    "print(name[1])\n",
    "print(name[7]) #this will give Exception"
   ]
  },
  {
   "cell_type": "code",
   "execution_count": 19,
   "id": "95e517b1",
   "metadata": {},
   "outputs": [
    {
     "ename": "TypeError",
     "evalue": "unsupported operand type(s) for +: 'int' and 'str'",
     "output_type": "error",
     "traceback": [
      "\u001b[1;31m---------------------------------------------------------------------------\u001b[0m",
      "\u001b[1;31mTypeError\u001b[0m                                 Traceback (most recent call last)",
      "Input \u001b[1;32mIn [19]\u001b[0m, in \u001b[0;36m<cell line: 4>\u001b[1;34m()\u001b[0m\n\u001b[0;32m      2\u001b[0m a \u001b[38;5;241m=\u001b[39m \u001b[38;5;241m100\u001b[39m\n\u001b[0;32m      3\u001b[0m b \u001b[38;5;241m=\u001b[39m \u001b[38;5;124m'\u001b[39m\u001b[38;5;124mone\u001b[39m\u001b[38;5;124m'\u001b[39m\n\u001b[1;32m----> 4\u001b[0m \u001b[38;5;28mprint\u001b[39m(\u001b[43ma\u001b[49m\u001b[38;5;241;43m+\u001b[39;49m\u001b[43mb\u001b[49m)\n",
      "\u001b[1;31mTypeError\u001b[0m: unsupported operand type(s) for +: 'int' and 'str'"
     ]
    }
   ],
   "source": [
    "# eg\n",
    "a = 100\n",
    "b = 'one'\n",
    "print(a+b)"
   ]
  },
  {
   "cell_type": "code",
   "execution_count": 2,
   "id": "e682c411",
   "metadata": {},
   "outputs": [],
   "source": [
    "# try:\n",
    "#     code trial\n",
    "# except:\n",
    "#     statement\n"
   ]
  },
  {
   "cell_type": "code",
   "execution_count": 27,
   "id": "6d641ccf",
   "metadata": {},
   "outputs": [
    {
     "name": "stdout",
     "output_type": "stream",
     "text": [
      "Some Error occured!!!\n",
      "Hello World\n"
     ]
    }
   ],
   "source": [
    "a = 100\n",
    "\n",
    "try:\n",
    "    b =0\n",
    "    c = a/b\n",
    "    print(c)\n",
    "except:\n",
    "    print(\"Some Error occured!!!\")\n",
    "    \n",
    "print('Hello World')"
   ]
  },
  {
   "cell_type": "code",
   "execution_count": 29,
   "id": "fba6b4ae",
   "metadata": {},
   "outputs": [
    {
     "name": "stdout",
     "output_type": "stream",
     "text": [
      "M\n"
     ]
    }
   ],
   "source": [
    "name  = 'MANSI'\n",
    "\n",
    "try:\n",
    "    print(name[0]) #this will give Exception\n",
    "except:\n",
    "   print(\"Somethhing went wrong!!!\") "
   ]
  },
  {
   "cell_type": "code",
   "execution_count": 30,
   "id": "6f19ff53",
   "metadata": {},
   "outputs": [
    {
     "name": "stdout",
     "output_type": "stream",
     "text": [
      "Somethhing went wrong!!!\n"
     ]
    }
   ],
   "source": [
    "name  = 'MANSI'\n",
    "\n",
    "try:\n",
    "    print(name[7]) #this will give Exception\n",
    "except:\n",
    "   print(\"Somethhing went wrong!!!\") "
   ]
  },
  {
   "cell_type": "code",
   "execution_count": 31,
   "id": "094aae35",
   "metadata": {},
   "outputs": [
    {
     "name": "stdout",
     "output_type": "stream",
     "text": [
      "1.0\n",
      "A\n"
     ]
    }
   ],
   "source": [
    "# case :no exceptions\n",
    "a = 100\n",
    "name  = 'MANSI'\n",
    "try:\n",
    "    b =100\n",
    "    c = a/b\n",
    "    print(c)\n",
    "    print(name[1])\n",
    "except:\n",
    "    print(\"Some Error occured!!!\")"
   ]
  },
  {
   "cell_type": "code",
   "execution_count": 32,
   "id": "5a7ae414",
   "metadata": {},
   "outputs": [
    {
     "name": "stdout",
     "output_type": "stream",
     "text": [
      "Some Error occured!!!\n"
     ]
    }
   ],
   "source": [
    "# case :Zero div exceptions\n",
    "a = 100\n",
    "name  = 'MANSI'\n",
    "try:\n",
    "    b = 0\n",
    "    c = a/b\n",
    "    print(c)\n",
    "    print(name[1])\n",
    "except:\n",
    "    print(\"Some Error occured!!!\")"
   ]
  },
  {
   "cell_type": "code",
   "execution_count": 33,
   "id": "74618b24",
   "metadata": {},
   "outputs": [
    {
     "name": "stdout",
     "output_type": "stream",
     "text": [
      "1.0\n",
      "Some Error occured!!!\n"
     ]
    }
   ],
   "source": [
    "# case :INdex  exceptions\n",
    "a = 100\n",
    "name  = 'MANSI'\n",
    "try:\n",
    "    b = 100\n",
    "    c = a/b\n",
    "    print(c)\n",
    "    print(name[10])\n",
    "except:\n",
    "    print(\"Some Error occured!!!\")"
   ]
  },
  {
   "cell_type": "code",
   "execution_count": null,
   "id": "c0448e2c",
   "metadata": {},
   "outputs": [],
   "source": []
  },
  {
   "cell_type": "code",
   "execution_count": 3,
   "id": "7d4deb90",
   "metadata": {},
   "outputs": [],
   "source": [
    "# Multiple exception cases under one ttry...except block"
   ]
  },
  {
   "cell_type": "code",
   "execution_count": null,
   "id": "54762eff",
   "metadata": {},
   "outputs": [],
   "source": []
  },
  {
   "cell_type": "code",
   "execution_count": 4,
   "id": "9146e9bf",
   "metadata": {},
   "outputs": [],
   "source": [
    "# providing more specific Error type using basic exception class"
   ]
  },
  {
   "cell_type": "code",
   "execution_count": 34,
   "id": "8230428a",
   "metadata": {},
   "outputs": [
    {
     "name": "stdout",
     "output_type": "stream",
     "text": [
      "1.0\n",
      "Some Error occured!!! string index out of range\n"
     ]
    }
   ],
   "source": [
    "a = 100\n",
    "name  = 'MANSI'\n",
    "try:\n",
    "    b = 100\n",
    "    c = a/b\n",
    "    print(c)\n",
    "    print(name[10])\n",
    "except Exception as e:\n",
    "    print(\"Some Error occured!!!\" , e)"
   ]
  },
  {
   "cell_type": "code",
   "execution_count": 36,
   "id": "f455c20b",
   "metadata": {},
   "outputs": [
    {
     "name": "stdout",
     "output_type": "stream",
     "text": [
      "1.0\n",
      "A\n",
      "Hello World!!!\n"
     ]
    }
   ],
   "source": [
    "a = 100\n",
    "name  = 'MANSI'\n",
    "try:\n",
    "    b = 100\n",
    "    c = a/b\n",
    "    print(c)\n",
    "    print(name[1])\n",
    "except Exception as e:\n",
    "    print(\"Some Error occured!!!\" , e)\n",
    "    \n",
    "    \n",
    "print(\"Hello World!!!\")"
   ]
  },
  {
   "cell_type": "code",
   "execution_count": 38,
   "id": "056a7b11",
   "metadata": {},
   "outputs": [
    {
     "name": "stdout",
     "output_type": "stream",
     "text": [
      "Some Error occured!!! division by zero\n",
      "Hello World!!!\n"
     ]
    }
   ],
   "source": [
    "a = 100\n",
    "name  = 'MANSI'\n",
    "try:\n",
    "    b = 0\n",
    "    c = a/b\n",
    "    print(c)\n",
    "    print(name[1])\n",
    "except Exception as aman: #Exception error is stored in the variable 'aman'\n",
    "    print(\"Some Error occured!!!\" , aman)\n",
    "    \n",
    "    \n",
    "print(\"Hello World!!!\")"
   ]
  },
  {
   "cell_type": "code",
   "execution_count": 39,
   "id": "4dfca23d",
   "metadata": {},
   "outputs": [
    {
     "name": "stdout",
     "output_type": "stream",
     "text": [
      "Some Error occured!!! division by zero\n",
      "Hello World!!!\n"
     ]
    }
   ],
   "source": [
    "a = 100\n",
    "name  = 'MANSI'\n",
    "try:\n",
    "    b = 0\n",
    "    c = a/b\n",
    "    print(c)\n",
    "    print(name[1])\n",
    "except Exception as e: #Exception error is stored in the variable 'aman'\n",
    "    print(\"Some Error occured!!!\" , e)\n",
    "except Exception as f: #Exception error is stored in the variable 'aman'\n",
    "    print(\"Some Error occured!!!\" , f)    \n",
    "    \n",
    "print(\"Hello World!!!\")"
   ]
  },
  {
   "cell_type": "code",
   "execution_count": 41,
   "id": "29a17700",
   "metadata": {},
   "outputs": [
    {
     "name": "stdout",
     "output_type": "stream",
     "text": [
      "Some Error occured!!! division by zero\n",
      "Hello World!!!\n"
     ]
    }
   ],
   "source": [
    "# using multiple except blocks for specific errors\n",
    "# for the developer team\n",
    "\n",
    "a = 100\n",
    "name  = 'MANSI'\n",
    "try:\n",
    "    b = 0\n",
    "    c = a/b\n",
    "    print(c)\n",
    "    print(name[1])\n",
    "except ZeroDivisionError as e: \n",
    "    print(\"Some Error occured!!!\" , e)\n",
    "except IndexError as f: \n",
    "    print(\"Some Error occured!!!\" , f)    \n",
    "    \n",
    "print(\"Hello World!!!\")"
   ]
  },
  {
   "cell_type": "code",
   "execution_count": null,
   "id": "b29f6fbf",
   "metadata": {},
   "outputs": [],
   "source": []
  },
  {
   "cell_type": "code",
   "execution_count": 5,
   "id": "ca6afd71",
   "metadata": {},
   "outputs": [
    {
     "data": {
      "text/plain": [
       "'\\nBaseException\\n +-- SystemExit\\n +-- KeyboardInterrupt\\n +-- GeneratorExit\\n +-- Exception\\n      +-- StopIteration\\n      +-- StopAsyncIteration\\n      +-- ArithmeticError\\n      |    +-- FloatingPointError\\n      |    +-- OverflowError\\n      |    +-- ZeroDivisionError\\n      +-- AssertionError\\n      +-- AttributeError\\n      +-- BufferError\\n      +-- EOFError\\n      +-- ImportError\\n      |    +-- ModuleNotFoundError\\n      +-- LookupError\\n      |    +-- IndexError\\n      |    +-- KeyError\\n      +-- MemoryError\\n      +-- NameError\\n      |    +-- UnboundLocalError\\n      +-- OSError\\n      |    +-- BlockingIOError\\n      |    +-- ChildProcessError\\n      |    +-- ConnectionError\\n      |    |    +-- BrokenPipeError\\n      |    |    +-- ConnectionAbortedError\\n      |    |    +-- ConnectionRefusedError\\n      |    |    +-- ConnectionResetError\\n      |    +-- FileExistsError\\n      |    +-- FileNotFoundError\\n      |    +-- InterruptedError\\n      |    +-- IsADirectoryError\\n      |    +-- NotADirectoryError\\n      |    +-- PermissionError\\n      |    +-- ProcessLookupError\\n      |    +-- TimeoutError\\n      +-- ReferenceError\\n      +-- RuntimeError\\n      |    +-- NotImplementedError\\n      |    +-- RecursionError\\n      +-- SyntaxError\\n      |    +-- IndentationError\\n      |         +-- TabError\\n      +-- SystemError\\n      +-- TypeError\\n      +-- ValueError\\n      |    +-- UnicodeError\\n      |         +-- UnicodeDecodeError\\n      |         +-- UnicodeEncodeError\\n      |         +-- UnicodeTranslateError\\n      +-- Warning\\n           +-- DeprecationWarning\\n           +-- PendingDeprecationWarning\\n           +-- RuntimeWarning\\n           +-- SyntaxWarning\\n           +-- UserWarning\\n           +-- FutureWarning\\n           +-- ImportWarning\\n           +-- UnicodeWarning\\n           +-- BytesWarning\\n           +-- EncodingWarning\\n           +-- ResourceWarning\\n'"
      ]
     },
     "execution_count": 5,
     "metadata": {},
     "output_type": "execute_result"
    }
   ],
   "source": [
    "\n",
    "'''\n",
    "BaseException\n",
    " +-- SystemExit\n",
    " +-- KeyboardInterrupt\n",
    " +-- GeneratorExit\n",
    " +-- Exception\n",
    "      +-- StopIteration\n",
    "      +-- StopAsyncIteration\n",
    "      +-- ArithmeticError\n",
    "      |    +-- FloatingPointError\n",
    "      |    +-- OverflowError\n",
    "      |    +-- ZeroDivisionError\n",
    "      +-- AssertionError\n",
    "      +-- AttributeError\n",
    "      +-- BufferError\n",
    "      +-- EOFError\n",
    "      +-- ImportError\n",
    "      |    +-- ModuleNotFoundError\n",
    "      +-- LookupError\n",
    "      |    +-- IndexError\n",
    "      |    +-- KeyError\n",
    "      +-- MemoryError\n",
    "      +-- NameError\n",
    "      |    +-- UnboundLocalError\n",
    "      +-- OSError\n",
    "      |    +-- BlockingIOError\n",
    "      |    +-- ChildProcessError\n",
    "      |    +-- ConnectionError\n",
    "      |    |    +-- BrokenPipeError\n",
    "      |    |    +-- ConnectionAbortedError\n",
    "      |    |    +-- ConnectionRefusedError\n",
    "      |    |    +-- ConnectionResetError\n",
    "      |    +-- FileExistsError\n",
    "      |    +-- FileNotFoundError\n",
    "      |    +-- InterruptedError\n",
    "      |    +-- IsADirectoryError\n",
    "      |    +-- NotADirectoryError\n",
    "      |    +-- PermissionError\n",
    "      |    +-- ProcessLookupError\n",
    "      |    +-- TimeoutError\n",
    "      +-- ReferenceError\n",
    "      +-- RuntimeError\n",
    "      |    +-- NotImplementedError\n",
    "      |    +-- RecursionError\n",
    "      +-- SyntaxError\n",
    "      |    +-- IndentationError\n",
    "      |         +-- TabError\n",
    "      +-- SystemError\n",
    "      +-- TypeError\n",
    "      +-- ValueError\n",
    "      |    +-- UnicodeError\n",
    "      |         +-- UnicodeDecodeError\n",
    "      |         +-- UnicodeEncodeError\n",
    "      |         +-- UnicodeTranslateError\n",
    "      +-- Warning\n",
    "           +-- DeprecationWarning\n",
    "           +-- PendingDeprecationWarning\n",
    "           +-- RuntimeWarning\n",
    "           +-- SyntaxWarning\n",
    "           +-- UserWarning\n",
    "           +-- FutureWarning\n",
    "           +-- ImportWarning\n",
    "           +-- UnicodeWarning\n",
    "           +-- BytesWarning\n",
    "           +-- EncodingWarning\n",
    "           +-- ResourceWarning\n",
    "'''\n"
   ]
  },
  {
   "cell_type": "code",
   "execution_count": 7,
   "id": "9b12a36e",
   "metadata": {},
   "outputs": [],
   "source": [
    "# try:\n",
    "#     code trial\n",
    "# except:\n",
    "#     statement\n",
    "# else:\n",
    "#     code\n",
    "# finally:\n",
    "#     code\n",
    "\n"
   ]
  },
  {
   "cell_type": "code",
   "execution_count": 45,
   "id": "02c40b63",
   "metadata": {},
   "outputs": [
    {
     "name": "stdout",
     "output_type": "stream",
     "text": [
      "1.0\n",
      "A\n",
      "Code Executed Successfully!!!\n",
      "Hello World!!!\n"
     ]
    }
   ],
   "source": [
    "\n",
    "a = 100\n",
    "name  = 'MANSI'\n",
    "try:\n",
    "    b = 100\n",
    "    c = a/b\n",
    "    print(c)\n",
    "    print(name[1])\n",
    "except ZeroDivisionError as e: \n",
    "    print(\"Some Error occured!!!\" , e)\n",
    "except IndexError as f: \n",
    "    print(\"Some Error occured!!!\" , f) \n",
    "else:\n",
    "    print(\"Code Executed Successfully!!!\") #this will be executed when there is no exception\n",
    "    \n",
    "print(\"Hello World!!!\")"
   ]
  },
  {
   "cell_type": "code",
   "execution_count": 46,
   "id": "9680bf45",
   "metadata": {},
   "outputs": [
    {
     "name": "stdout",
     "output_type": "stream",
     "text": [
      "1.0\n",
      "A\n",
      "Code Executed Successfully!!!\n",
      "This will always gets excuted , irrespective of thhe code status!!!\n",
      "Hello World!!!\n"
     ]
    }
   ],
   "source": [
    "\n",
    "a = 100\n",
    "name  = 'MANSI'\n",
    "try:\n",
    "    b = 100\n",
    "    c = a/b\n",
    "    print(c)\n",
    "    print(name[1])\n",
    "except ZeroDivisionError as e: \n",
    "    print(\"Some Error occured!!!\" , e)\n",
    "except IndexError as f: \n",
    "    print(\"Some Error occured!!!\" , f) \n",
    "else:\n",
    "    print(\"Code Executed Successfully!!!\") #this will be executed when there is no exception\n",
    "finally:\n",
    "    print(\"This will always gets excuted , irrespective of thhe code status!!!\")\n",
    "print(\"Hello World!!!\")"
   ]
  },
  {
   "cell_type": "code",
   "execution_count": 47,
   "id": "72e80e80",
   "metadata": {},
   "outputs": [
    {
     "name": "stdout",
     "output_type": "stream",
     "text": [
      "1.0\n",
      "Some Error occured!!! string index out of range\n",
      "This will always gets excuted , irrespective of thhe code status!!!\n",
      "Hello World!!!\n"
     ]
    }
   ],
   "source": [
    "\n",
    "a = 100\n",
    "name  = 'MANSI'\n",
    "try:\n",
    "    b = 100\n",
    "    c = a/b\n",
    "    print(c)\n",
    "    print(name[7])\n",
    "except ZeroDivisionError as e: \n",
    "    print(\"Some Error occured!!!\" , e)\n",
    "except IndexError as f: \n",
    "    print(\"Some Error occured!!!\" , f) \n",
    "else:\n",
    "    print(\"Code Executed Successfully!!!\") #this will be executed when there is no exception\n",
    "finally:\n",
    "    print(\"This will always gets excuted , irrespective of thhe code status!!!\")\n",
    "print(\"Hello World!!!\")"
   ]
  },
  {
   "cell_type": "code",
   "execution_count": null,
   "id": "4a19501d",
   "metadata": {},
   "outputs": [],
   "source": []
  },
  {
   "cell_type": "code",
   "execution_count": null,
   "id": "3dd63c57",
   "metadata": {},
   "outputs": [],
   "source": []
  },
  {
   "cell_type": "code",
   "execution_count": null,
   "id": "a1e403e8",
   "metadata": {},
   "outputs": [],
   "source": []
  },
  {
   "cell_type": "markdown",
   "id": "7e4cd0b2",
   "metadata": {},
   "source": [
    "# Custom Error i.e Raising Exceptions"
   ]
  },
  {
   "cell_type": "code",
   "execution_count": 8,
   "id": "846b150e",
   "metadata": {},
   "outputs": [],
   "source": [
    "# https://docs.python.org/3.10/library/exceptions.html"
   ]
  },
  {
   "cell_type": "markdown",
   "id": "f528b9bb",
   "metadata": {},
   "source": [
    "# input in python"
   ]
  },
  {
   "cell_type": "code",
   "execution_count": null,
   "id": "b164e400",
   "metadata": {},
   "outputs": [],
   "source": []
  },
  {
   "cell_type": "code",
   "execution_count": null,
   "id": "0bcbd5e4",
   "metadata": {},
   "outputs": [],
   "source": []
  },
  {
   "cell_type": "markdown",
   "id": "06e58dbf",
   "metadata": {},
   "source": [
    "# raising custom exception"
   ]
  },
  {
   "cell_type": "code",
   "execution_count": 51,
   "id": "28698cef",
   "metadata": {},
   "outputs": [],
   "source": [
    "# we need even number in numerical form !!!"
   ]
  },
  {
   "cell_type": "code",
   "execution_count": 49,
   "id": "8566b1ca",
   "metadata": {},
   "outputs": [
    {
     "name": "stdout",
     "output_type": "stream",
     "text": [
      "Enter a number : one\n"
     ]
    }
   ],
   "source": [
    "x = input(\"Enter a number : \")"
   ]
  },
  {
   "cell_type": "code",
   "execution_count": 50,
   "id": "ce1d2970",
   "metadata": {},
   "outputs": [
    {
     "name": "stdout",
     "output_type": "stream",
     "text": [
      "Enter a number : 1\n"
     ]
    }
   ],
   "source": [
    "x = input(\"Enter a number : \")"
   ]
  },
  {
   "cell_type": "code",
   "execution_count": 52,
   "id": "88d1f51b",
   "metadata": {},
   "outputs": [
    {
     "name": "stdout",
     "output_type": "stream",
     "text": [
      "Enter a number : 3\n"
     ]
    }
   ],
   "source": [
    "x = input(\"Enter a number : \")"
   ]
  },
  {
   "cell_type": "code",
   "execution_count": 57,
   "id": "c8cc069d",
   "metadata": {},
   "outputs": [
    {
     "name": "stdout",
     "output_type": "stream",
     "text": [
      "Enter a number : 2\n",
      "NUmber is even\n"
     ]
    }
   ],
   "source": [
    "x = int(input(\"Enter a number : \"))\n",
    "if x%2!=0:\n",
    "    print(\"NUmber is not Even\")\n",
    "else:\n",
    "    print(\"NUmber is even\")"
   ]
  },
  {
   "cell_type": "code",
   "execution_count": 58,
   "id": "4da602fb",
   "metadata": {},
   "outputs": [
    {
     "name": "stdout",
     "output_type": "stream",
     "text": [
      "Enter a number : 3\n",
      "NUmber is not Even\n"
     ]
    }
   ],
   "source": [
    "x = int(input(\"Enter a number : \"))\n",
    "if x%2!=0:\n",
    "    print(\"NUmber is not Even\")\n",
    "else:\n",
    "    print(\"NUmber is even\")"
   ]
  },
  {
   "cell_type": "markdown",
   "id": "6359a076",
   "metadata": {},
   "source": [
    "<!-- raising user defined exception  -->"
   ]
  },
  {
   "cell_type": "code",
   "execution_count": 59,
   "id": "48c061c7",
   "metadata": {},
   "outputs": [],
   "source": [
    "# raising exception"
   ]
  },
  {
   "cell_type": "code",
   "execution_count": 61,
   "id": "fa68902a",
   "metadata": {},
   "outputs": [
    {
     "name": "stdout",
     "output_type": "stream",
     "text": [
      "Enter a number : 12\n",
      "NUmber Entered is  even\n"
     ]
    }
   ],
   "source": [
    "x = int(input(\"Enter a number : \"))\n",
    "if x%2!=0:\n",
    "    print(\"Enter Even number only \")\n",
    "else:\n",
    "    print(\"NUmber Entered is  even\")"
   ]
  },
  {
   "cell_type": "code",
   "execution_count": 62,
   "id": "e606964d",
   "metadata": {},
   "outputs": [
    {
     "name": "stdout",
     "output_type": "stream",
     "text": [
      "Enter a number : 12\n",
      "NUmber Entered is  even\n"
     ]
    }
   ],
   "source": [
    "x = int(input(\"Enter a number : \"))\n",
    "if x%2!=0:\n",
    "    raise Exception(\"Enter Even number only \")\n",
    "else:\n",
    "    print(\"NUmber Entered is  even\")"
   ]
  },
  {
   "cell_type": "code",
   "execution_count": 65,
   "id": "188e8119",
   "metadata": {},
   "outputs": [
    {
     "name": "stdout",
     "output_type": "stream",
     "text": [
      "Enter a number : 15\n"
     ]
    },
    {
     "ename": "Exception",
     "evalue": "Only works with even number!!! ",
     "output_type": "error",
     "traceback": [
      "\u001b[1;31m---------------------------------------------------------------------------\u001b[0m",
      "\u001b[1;31mException\u001b[0m                                 Traceback (most recent call last)",
      "Input \u001b[1;32mIn [65]\u001b[0m, in \u001b[0;36m<cell line: 2>\u001b[1;34m()\u001b[0m\n\u001b[0;32m      1\u001b[0m x \u001b[38;5;241m=\u001b[39m \u001b[38;5;28mint\u001b[39m(\u001b[38;5;28minput\u001b[39m(\u001b[38;5;124m\"\u001b[39m\u001b[38;5;124mEnter a number : \u001b[39m\u001b[38;5;124m\"\u001b[39m))\n\u001b[0;32m      2\u001b[0m \u001b[38;5;28;01mif\u001b[39;00m x\u001b[38;5;241m%\u001b[39m\u001b[38;5;241m2\u001b[39m\u001b[38;5;241m!=\u001b[39m\u001b[38;5;241m0\u001b[39m:\n\u001b[1;32m----> 3\u001b[0m     \u001b[38;5;28;01mraise\u001b[39;00m \u001b[38;5;167;01mException\u001b[39;00m(\u001b[38;5;124m\"\u001b[39m\u001b[38;5;124mOnly works with even number!!! \u001b[39m\u001b[38;5;124m\"\u001b[39m)\n\u001b[0;32m      4\u001b[0m \u001b[38;5;28;01melse\u001b[39;00m:\n\u001b[0;32m      5\u001b[0m     \u001b[38;5;28mprint\u001b[39m(\u001b[38;5;124m\"\u001b[39m\u001b[38;5;124mNUmber Entered is  even\u001b[39m\u001b[38;5;124m\"\u001b[39m)\n",
      "\u001b[1;31mException\u001b[0m: Only works with even number!!! "
     ]
    }
   ],
   "source": [
    "x = int(input(\"Enter a number : \"))\n",
    "if x%2!=0:\n",
    "    raise Exception(\"Only works with even number!!! \")\n",
    "else:\n",
    "    print(\"NUmber Entered is  even\")"
   ]
  },
  {
   "cell_type": "code",
   "execution_count": 66,
   "id": "d18e68a2",
   "metadata": {},
   "outputs": [],
   "source": [
    "# calculating age"
   ]
  },
  {
   "cell_type": "code",
   "execution_count": 70,
   "id": "c23159ac",
   "metadata": {},
   "outputs": [
    {
     "name": "stdout",
     "output_type": "stream",
     "text": [
      "122\n"
     ]
    }
   ],
   "source": [
    "current_year = 2022\n",
    "year_born = 1900\n",
    "age = current_year-year_born\n",
    "print(age)"
   ]
  },
  {
   "cell_type": "code",
   "execution_count": 72,
   "id": "44532c76",
   "metadata": {},
   "outputs": [
    {
     "name": "stdout",
     "output_type": "stream",
     "text": [
      "-178\n"
     ]
    }
   ],
   "source": [
    "# case 2 : age in negative\n",
    "current_year = 2022\n",
    "year_born = 2200\n",
    "age = current_year-year_born\n",
    "print(age)"
   ]
  },
  {
   "cell_type": "code",
   "execution_count": 73,
   "id": "b65a7571",
   "metadata": {},
   "outputs": [],
   "source": [
    "# raising exception"
   ]
  },
  {
   "cell_type": "code",
   "execution_count": 75,
   "id": "772b41a1",
   "metadata": {},
   "outputs": [
    {
     "ename": "Exception",
     "evalue": "Invalid year of birth!!",
     "output_type": "error",
     "traceback": [
      "\u001b[1;31m---------------------------------------------------------------------------\u001b[0m",
      "\u001b[1;31mException\u001b[0m                                 Traceback (most recent call last)",
      "Input \u001b[1;32mIn [75]\u001b[0m, in \u001b[0;36m<cell line: 3>\u001b[1;34m()\u001b[0m\n\u001b[0;32m      2\u001b[0m year_born \u001b[38;5;241m=\u001b[39m \u001b[38;5;241m2200\u001b[39m\n\u001b[0;32m      3\u001b[0m \u001b[38;5;28;01mif\u001b[39;00m  year_born \u001b[38;5;241m>\u001b[39m current_year:\n\u001b[1;32m----> 4\u001b[0m     \u001b[38;5;28;01mraise\u001b[39;00m \u001b[38;5;167;01mException\u001b[39;00m(\u001b[38;5;124m\"\u001b[39m\u001b[38;5;124mInvalid year of birth!!\u001b[39m\u001b[38;5;124m\"\u001b[39m)\n\u001b[0;32m      5\u001b[0m \u001b[38;5;28;01melse\u001b[39;00m:\n\u001b[0;32m      6\u001b[0m     age \u001b[38;5;241m=\u001b[39m current_year\u001b[38;5;241m-\u001b[39myear_born\n",
      "\u001b[1;31mException\u001b[0m: Invalid year of birth!!"
     ]
    }
   ],
   "source": [
    "current_year = 2022\n",
    "year_born = 2200\n",
    "if  year_born > current_year:\n",
    "    raise Exception(\"Invalid year of birth!!\")\n",
    "else:\n",
    "    age = current_year-year_born\n",
    "    print(age)"
   ]
  },
  {
   "cell_type": "code",
   "execution_count": 78,
   "id": "b6595525",
   "metadata": {},
   "outputs": [
    {
     "ename": "Exception",
     "evalue": "Invalid year of birth!!",
     "output_type": "error",
     "traceback": [
      "\u001b[1;31m---------------------------------------------------------------------------\u001b[0m",
      "\u001b[1;31mException\u001b[0m                                 Traceback (most recent call last)",
      "Input \u001b[1;32mIn [78]\u001b[0m, in \u001b[0;36m<cell line: 3>\u001b[1;34m()\u001b[0m\n\u001b[0;32m      2\u001b[0m year_born \u001b[38;5;241m=\u001b[39m \u001b[38;5;241m23000\u001b[39m\n\u001b[0;32m      3\u001b[0m \u001b[38;5;28;01mif\u001b[39;00m  year_born \u001b[38;5;241m>\u001b[39m current_year:\n\u001b[1;32m----> 4\u001b[0m     \u001b[38;5;28;01mraise\u001b[39;00m \u001b[38;5;167;01mException\u001b[39;00m(\u001b[38;5;124m\"\u001b[39m\u001b[38;5;124mInvalid year of birth!!\u001b[39m\u001b[38;5;124m\"\u001b[39m)\n\u001b[0;32m      5\u001b[0m \u001b[38;5;28;01melse\u001b[39;00m:\n\u001b[0;32m      6\u001b[0m     age \u001b[38;5;241m=\u001b[39m current_year\u001b[38;5;241m-\u001b[39myear_born\n",
      "\u001b[1;31mException\u001b[0m: Invalid year of birth!!"
     ]
    }
   ],
   "source": [
    "current_year = 2022\n",
    "year_born = 23000\n",
    "if  year_born > current_year:\n",
    "    raise Exception(\"Invalid year of birth!!\")\n",
    "else:\n",
    "    age = current_year-year_born\n",
    "    print(age)\n",
    "    \n",
    "print(\"Acc bal is Rs 500000\")   "
   ]
  },
  {
   "cell_type": "code",
   "execution_count": 83,
   "id": "d26aef90",
   "metadata": {},
   "outputs": [
    {
     "name": "stdout",
     "output_type": "stream",
     "text": [
      "34\n",
      "Acc bal is Rs 500000\n"
     ]
    }
   ],
   "source": [
    "# converting the logic into function\n",
    "\n",
    "\n",
    "def calculate_age(year_born):\n",
    "    current_year = 2024\n",
    "    if  year_born > current_year:\n",
    "        raise Exception(\"Invalid year of birth!!\")\n",
    "    else:\n",
    "        age = current_year-year_born\n",
    "        print(age)\n",
    "\n",
    "        \n",
    "# calling the function\n",
    "\n",
    "try:\n",
    "    calculate_age(1990)\n",
    "except:\n",
    "    print(\"Some error occured\")\n",
    "    \n",
    "print(\"Acc bal is Rs 500000\") "
   ]
  },
  {
   "cell_type": "code",
   "execution_count": 86,
   "id": "20afbec3",
   "metadata": {},
   "outputs": [
    {
     "name": "stdout",
     "output_type": "stream",
     "text": [
      "Invalid year of birth!! Please Enter correct age!!!\n",
      "Acc bal is Rs 500000\n"
     ]
    }
   ],
   "source": [
    "\n",
    "def calculate_age(year_born):\n",
    "    current_year = 2024\n",
    "    if  year_born > current_year:\n",
    "        raise Exception(\"Invalid year of birth!!\")\n",
    "    else:\n",
    "        age = current_year-year_born\n",
    "        print(age)\n",
    "\n",
    "        \n",
    "# calling the function\n",
    "\n",
    "try:\n",
    "    calculate_age(3000)\n",
    "except:\n",
    "    print(\"Invalid year of birth!! Please Enter correct age!!!\")\n",
    "    \n",
    "print(\"Acc bal is Rs 500000\") "
   ]
  },
  {
   "cell_type": "code",
   "execution_count": null,
   "id": "c5df6e02",
   "metadata": {},
   "outputs": [],
   "source": []
  },
  {
   "cell_type": "code",
   "execution_count": null,
   "id": "e2045c90",
   "metadata": {},
   "outputs": [],
   "source": []
  },
  {
   "cell_type": "code",
   "execution_count": null,
   "id": "23f84b95",
   "metadata": {},
   "outputs": [],
   "source": [
    "\n",
    "a = 100\n",
    "name  = 'MANSI'\n",
    "try:\n",
    "    b = 100\n",
    "    c = a/b\n",
    "    print(c)\n",
    "    print(name[7])\n",
    "except ZeroDivisionError as e: \n",
    "    print(\"Some Error occured!!!\" , e)\n",
    "except IndexError as f: \n",
    "    print(\"Some Error occured!!!\" , f) \n",
    "else:\n",
    "    print(\"Code Executed Successfully!!!\") #this will be executed when there is no exception\n",
    "finally:\n",
    "    print(\"This will always gets excuted , irrespective of thhe code status!!!\")\n",
    "print(\"Hello World!!!\")"
   ]
  },
  {
   "cell_type": "code",
   "execution_count": 107,
   "id": "0af95635",
   "metadata": {},
   "outputs": [
    {
     "name": "stdout",
     "output_type": "stream",
     "text": [
      "Some Error occured division by zero\n",
      "Always close the connection before backup time!!!\n"
     ]
    }
   ],
   "source": [
    "a = 100\n",
    "name  = 'MANSI'\n",
    "\n",
    "try:\n",
    "    b = 0\n",
    "    c = a/b #ZeroDivisionError\n",
    "    print(c)\n",
    "    print(name[400]) #IndexError\n",
    "except ZeroDivisionError as e:\n",
    "    print(\"Some Error occured\",e)\n",
    "except IndexError as f:\n",
    "    print(\"Some Error occured\",f)\n",
    "else:\n",
    "    print(\"All code executed successsfully!!!\")\n",
    "finally:\n",
    "    print(\"Always close the connection before backup time!!!\")\n"
   ]
  },
  {
   "cell_type": "code",
   "execution_count": null,
   "id": "e8a824be",
   "metadata": {},
   "outputs": [],
   "source": []
  },
  {
   "cell_type": "code",
   "execution_count": null,
   "id": "7fd4f258",
   "metadata": {},
   "outputs": [],
   "source": []
  },
  {
   "cell_type": "code",
   "execution_count": null,
   "id": "a8b85ff2",
   "metadata": {},
   "outputs": [],
   "source": []
  },
  {
   "cell_type": "code",
   "execution_count": null,
   "id": "aa35c4cc",
   "metadata": {},
   "outputs": [],
   "source": []
  },
  {
   "cell_type": "code",
   "execution_count": null,
   "id": "f342e329",
   "metadata": {},
   "outputs": [],
   "source": []
  },
  {
   "cell_type": "code",
   "execution_count": null,
   "id": "385e9f65",
   "metadata": {},
   "outputs": [],
   "source": []
  },
  {
   "cell_type": "code",
   "execution_count": null,
   "id": "4f33fcab",
   "metadata": {},
   "outputs": [],
   "source": []
  },
  {
   "cell_type": "code",
   "execution_count": null,
   "id": "586762f1",
   "metadata": {},
   "outputs": [],
   "source": []
  },
  {
   "cell_type": "code",
   "execution_count": null,
   "id": "a9fc8792",
   "metadata": {},
   "outputs": [],
   "source": []
  },
  {
   "cell_type": "code",
   "execution_count": null,
   "id": "793042e4",
   "metadata": {},
   "outputs": [],
   "source": []
  },
  {
   "cell_type": "code",
   "execution_count": null,
   "id": "ec54c5a5",
   "metadata": {},
   "outputs": [],
   "source": []
  }
 ],
 "metadata": {
  "kernelspec": {
   "display_name": "Python 3 (ipykernel)",
   "language": "python",
   "name": "python3"
  },
  "language_info": {
   "codemirror_mode": {
    "name": "ipython",
    "version": 3
   },
   "file_extension": ".py",
   "mimetype": "text/x-python",
   "name": "python",
   "nbconvert_exporter": "python",
   "pygments_lexer": "ipython3",
   "version": "3.10.5"
  }
 },
 "nbformat": 4,
 "nbformat_minor": 5
}
