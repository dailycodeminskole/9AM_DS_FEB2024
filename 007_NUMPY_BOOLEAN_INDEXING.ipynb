{
 "cells": [
  {
   "cell_type": "code",
   "execution_count": 1,
   "id": "4bcfaf5b",
   "metadata": {},
   "outputs": [],
   "source": [
    "import numpy as np"
   ]
  },
  {
   "cell_type": "markdown",
   "id": "e30f6b8c",
   "metadata": {},
   "source": [
    "# Indexing with Boolean arrays"
   ]
  },
  {
   "cell_type": "code",
   "execution_count": 4,
   "id": "6e893902",
   "metadata": {},
   "outputs": [],
   "source": [
    "# masking\n",
    "# boolean Indecing"
   ]
  },
  {
   "cell_type": "code",
   "execution_count": 5,
   "id": "259e05d5",
   "metadata": {},
   "outputs": [],
   "source": [
    "arr1 = np.arange(12).reshape(3,4)"
   ]
  },
  {
   "cell_type": "code",
   "execution_count": 6,
   "id": "6e5a17c0",
   "metadata": {},
   "outputs": [
    {
     "data": {
      "text/plain": [
       "array([[ 0,  1,  2,  3],\n",
       "       [ 4,  5,  6,  7],\n",
       "       [ 8,  9, 10, 11]])"
      ]
     },
     "execution_count": 6,
     "metadata": {},
     "output_type": "execute_result"
    }
   ],
   "source": [
    "arr1"
   ]
  },
  {
   "cell_type": "code",
   "execution_count": 7,
   "id": "b7b36fe5",
   "metadata": {},
   "outputs": [
    {
     "data": {
      "text/plain": [
       "array([[10, 11, 12, 13],\n",
       "       [14, 15, 16, 17],\n",
       "       [18, 19, 20, 21]])"
      ]
     },
     "execution_count": 7,
     "metadata": {},
     "output_type": "execute_result"
    }
   ],
   "source": [
    "arr1 + 10 #this is elementwise operation"
   ]
  },
  {
   "cell_type": "code",
   "execution_count": 8,
   "id": "f1490c3d",
   "metadata": {},
   "outputs": [
    {
     "data": {
      "text/plain": [
       "array([[False, False, False, False],\n",
       "       [False, False, False, False],\n",
       "       [False, False, False,  True]])"
      ]
     },
     "execution_count": 8,
     "metadata": {},
     "output_type": "execute_result"
    }
   ],
   "source": [
    "arr1>10"
   ]
  },
  {
   "cell_type": "code",
   "execution_count": 9,
   "id": "18230b5f",
   "metadata": {},
   "outputs": [
    {
     "data": {
      "text/plain": [
       "array([[False, False, False, False],\n",
       "       [False, False,  True,  True],\n",
       "       [ True,  True,  True,  True]])"
      ]
     },
     "execution_count": 9,
     "metadata": {},
     "output_type": "execute_result"
    }
   ],
   "source": [
    "arr1>5"
   ]
  },
  {
   "cell_type": "code",
   "execution_count": 10,
   "id": "3fa8fdde",
   "metadata": {},
   "outputs": [
    {
     "data": {
      "text/plain": [
       "array([[ True,  True,  True,  True],\n",
       "       [ True, False, False, False],\n",
       "       [False, False, False, False]])"
      ]
     },
     "execution_count": 10,
     "metadata": {},
     "output_type": "execute_result"
    }
   ],
   "source": [
    "arr1<5"
   ]
  },
  {
   "cell_type": "code",
   "execution_count": 11,
   "id": "565672ad",
   "metadata": {},
   "outputs": [
    {
     "data": {
      "text/plain": [
       "array([[ True, False,  True, False],\n",
       "       [ True, False,  True, False],\n",
       "       [ True, False,  True, False]])"
      ]
     },
     "execution_count": 11,
     "metadata": {},
     "output_type": "execute_result"
    }
   ],
   "source": [
    "arr1 % 2 == 0"
   ]
  },
  {
   "cell_type": "code",
   "execution_count": 12,
   "id": "8cd068ed",
   "metadata": {},
   "outputs": [
    {
     "data": {
      "text/plain": [
       "array([[False,  True, False,  True],\n",
       "       [False,  True, False,  True],\n",
       "       [False,  True, False,  True]])"
      ]
     },
     "execution_count": 12,
     "metadata": {},
     "output_type": "execute_result"
    }
   ],
   "source": [
    "arr1 % 2 != 0"
   ]
  },
  {
   "cell_type": "code",
   "execution_count": 13,
   "id": "342b7612",
   "metadata": {},
   "outputs": [
    {
     "data": {
      "text/plain": [
       "array([[ True, False, False,  True],\n",
       "       [False, False,  True, False],\n",
       "       [False,  True, False, False]])"
      ]
     },
     "execution_count": 13,
     "metadata": {},
     "output_type": "execute_result"
    }
   ],
   "source": [
    "arr1 % 3 == 0"
   ]
  },
  {
   "cell_type": "code",
   "execution_count": 14,
   "id": "f7470294",
   "metadata": {},
   "outputs": [],
   "source": [
    "# multiple conditions"
   ]
  },
  {
   "cell_type": "code",
   "execution_count": 15,
   "id": "f95e906e",
   "metadata": {},
   "outputs": [
    {
     "data": {
      "text/plain": [
       "array([[ 0,  1,  2,  3],\n",
       "       [ 4,  5,  6,  7],\n",
       "       [ 8,  9, 10, 11]])"
      ]
     },
     "execution_count": 15,
     "metadata": {},
     "output_type": "execute_result"
    }
   ],
   "source": [
    "arr1"
   ]
  },
  {
   "cell_type": "code",
   "execution_count": null,
   "id": "4cec34e1",
   "metadata": {},
   "outputs": [],
   "source": [
    "# arr1 % 2 == 0\n",
    "# and \n",
    "# arr1 % 3 == 0\n"
   ]
  },
  {
   "cell_type": "code",
   "execution_count": 16,
   "id": "45ec6cb2",
   "metadata": {},
   "outputs": [
    {
     "data": {
      "text/plain": [
       "array([[ True, False, False, False],\n",
       "       [False, False,  True, False],\n",
       "       [False, False, False, False]])"
      ]
     },
     "execution_count": 16,
     "metadata": {},
     "output_type": "execute_result"
    }
   ],
   "source": [
    "(arr1 % 2 == 0) & (arr1 % 3 == 0)"
   ]
  },
  {
   "cell_type": "code",
   "execution_count": 17,
   "id": "d6581ce0",
   "metadata": {},
   "outputs": [],
   "source": [
    "# arr1 % 2 == 0\n",
    "# or\n",
    "# arr1 % 3 == 0"
   ]
  },
  {
   "cell_type": "code",
   "execution_count": 20,
   "id": "cd831190",
   "metadata": {},
   "outputs": [],
   "source": [
    "arr2 = (arr1 % 2 == 0) | (arr1 % 3 == 0)"
   ]
  },
  {
   "cell_type": "code",
   "execution_count": 19,
   "id": "46b1d3cd",
   "metadata": {},
   "outputs": [
    {
     "data": {
      "text/plain": [
       "array([[ 0,  1,  2,  3],\n",
       "       [ 4,  5,  6,  7],\n",
       "       [ 8,  9, 10, 11]])"
      ]
     },
     "execution_count": 19,
     "metadata": {},
     "output_type": "execute_result"
    }
   ],
   "source": [
    "arr1"
   ]
  },
  {
   "cell_type": "code",
   "execution_count": 21,
   "id": "fb9c44db",
   "metadata": {},
   "outputs": [
    {
     "data": {
      "text/plain": [
       "array([[ True, False,  True,  True],\n",
       "       [ True, False,  True, False],\n",
       "       [ True,  True,  True, False]])"
      ]
     },
     "execution_count": 21,
     "metadata": {},
     "output_type": "execute_result"
    }
   ],
   "source": [
    "arr2 #boolean aary ? values are boolean "
   ]
  },
  {
   "cell_type": "code",
   "execution_count": 22,
   "id": "e4c59e30",
   "metadata": {},
   "outputs": [
    {
     "data": {
      "text/plain": [
       "array([ 0,  2,  3,  4,  6,  8,  9, 10])"
      ]
     },
     "execution_count": 22,
     "metadata": {},
     "output_type": "execute_result"
    }
   ],
   "source": [
    "arr1[(arr1 % 2 == 0) | (arr1 % 3 == 0)]"
   ]
  },
  {
   "cell_type": "code",
   "execution_count": null,
   "id": "14c0a850",
   "metadata": {},
   "outputs": [],
   "source": []
  },
  {
   "cell_type": "code",
   "execution_count": 23,
   "id": "31297222",
   "metadata": {},
   "outputs": [
    {
     "data": {
      "text/plain": [
       "array([11])"
      ]
     },
     "execution_count": 23,
     "metadata": {},
     "output_type": "execute_result"
    }
   ],
   "source": [
    "arr1[arr1>10]"
   ]
  },
  {
   "cell_type": "code",
   "execution_count": 24,
   "id": "f0dca378",
   "metadata": {},
   "outputs": [
    {
     "data": {
      "text/plain": [
       "array([ 0,  2,  4,  6,  8, 10])"
      ]
     },
     "execution_count": 24,
     "metadata": {},
     "output_type": "execute_result"
    }
   ],
   "source": [
    "arr1[arr1 % 2 == 0]"
   ]
  },
  {
   "cell_type": "code",
   "execution_count": 25,
   "id": "736e7fcd",
   "metadata": {},
   "outputs": [
    {
     "data": {
      "text/plain": [
       "array([0, 6])"
      ]
     },
     "execution_count": 25,
     "metadata": {},
     "output_type": "execute_result"
    }
   ],
   "source": [
    "arr1[(arr1 % 2 == 0) & (arr1 % 3 == 0)]"
   ]
  },
  {
   "cell_type": "code",
   "execution_count": null,
   "id": "e4fb449a",
   "metadata": {},
   "outputs": [],
   "source": []
  },
  {
   "cell_type": "markdown",
   "id": "96ff7243",
   "metadata": {},
   "source": [
    "# Universal function"
   ]
  },
  {
   "cell_type": "code",
   "execution_count": null,
   "id": "a9931511",
   "metadata": {},
   "outputs": [],
   "source": [
    "# arrays must be of same shape and size"
   ]
  },
  {
   "cell_type": "code",
   "execution_count": 26,
   "id": "d34cfb3c",
   "metadata": {},
   "outputs": [],
   "source": [
    "# https://numpy.org/doc/stable/user/quickstart.html#universal-functions"
   ]
  },
  {
   "cell_type": "code",
   "execution_count": 27,
   "id": "8ebb69c8",
   "metadata": {},
   "outputs": [
    {
     "name": "stdout",
     "output_type": "stream",
     "text": [
      "[11 22 33 44 55]\n",
      "[1 2 3 4 5]\n"
     ]
    }
   ],
   "source": [
    "a = np.array([11,22,33,44,55])\n",
    "b = np.array([1,2,3,4,5])\n",
    "print(a)\n",
    "print(b)"
   ]
  },
  {
   "cell_type": "code",
   "execution_count": 28,
   "id": "7f5766a1",
   "metadata": {},
   "outputs": [
    {
     "data": {
      "text/plain": [
       "array([21, 32, 43, 54, 65])"
      ]
     },
     "execution_count": 28,
     "metadata": {},
     "output_type": "execute_result"
    }
   ],
   "source": [
    "a + 10"
   ]
  },
  {
   "cell_type": "code",
   "execution_count": 29,
   "id": "158bbcf4",
   "metadata": {},
   "outputs": [
    {
     "data": {
      "text/plain": [
       "array([11, 22, 33, 44, 55])"
      ]
     },
     "execution_count": 29,
     "metadata": {},
     "output_type": "execute_result"
    }
   ],
   "source": [
    "a"
   ]
  },
  {
   "cell_type": "code",
   "execution_count": 30,
   "id": "874bf36a",
   "metadata": {},
   "outputs": [
    {
     "data": {
      "text/plain": [
       "array([12, 24, 36, 48, 60])"
      ]
     },
     "execution_count": 30,
     "metadata": {},
     "output_type": "execute_result"
    }
   ],
   "source": [
    "a + b"
   ]
  },
  {
   "cell_type": "code",
   "execution_count": 31,
   "id": "5121ec3f",
   "metadata": {},
   "outputs": [
    {
     "data": {
      "text/plain": [
       "array([10, 20, 30, 40, 50])"
      ]
     },
     "execution_count": 31,
     "metadata": {},
     "output_type": "execute_result"
    }
   ],
   "source": [
    "a- b"
   ]
  },
  {
   "cell_type": "code",
   "execution_count": 32,
   "id": "976707cd",
   "metadata": {},
   "outputs": [
    {
     "data": {
      "text/plain": [
       "array([ 11,  44,  99, 176, 275])"
      ]
     },
     "execution_count": 32,
     "metadata": {},
     "output_type": "execute_result"
    }
   ],
   "source": [
    "a*b"
   ]
  },
  {
   "cell_type": "code",
   "execution_count": 33,
   "id": "1ccb8734",
   "metadata": {},
   "outputs": [
    {
     "data": {
      "text/plain": [
       "array([11., 11., 11., 11., 11.])"
      ]
     },
     "execution_count": 33,
     "metadata": {},
     "output_type": "execute_result"
    }
   ],
   "source": [
    "a/b"
   ]
  },
  {
   "cell_type": "code",
   "execution_count": 34,
   "id": "2768d8fe",
   "metadata": {},
   "outputs": [
    {
     "name": "stdout",
     "output_type": "stream",
     "text": [
      "[11 22 33 44 55]\n",
      "[1 2 3 4 0]\n"
     ]
    }
   ],
   "source": [
    "a = np.array([11,22,33,44,55])\n",
    "b = np.array([1,2,3,4,0])\n",
    "print(a)\n",
    "print(b)"
   ]
  },
  {
   "cell_type": "code",
   "execution_count": 35,
   "id": "3174d0cb",
   "metadata": {},
   "outputs": [
    {
     "data": {
      "text/plain": [
       "array([ 11,  44,  99, 176,   0])"
      ]
     },
     "execution_count": 35,
     "metadata": {},
     "output_type": "execute_result"
    }
   ],
   "source": [
    "a*b"
   ]
  },
  {
   "cell_type": "code",
   "execution_count": 36,
   "id": "0c8a59b4",
   "metadata": {},
   "outputs": [
    {
     "name": "stderr",
     "output_type": "stream",
     "text": [
      "C:\\Users\\RAHUL\\AppData\\Local\\Temp\\ipykernel_25216\\1348051284.py:1: RuntimeWarning: divide by zero encountered in divide\n",
      "  a/b\n"
     ]
    },
    {
     "data": {
      "text/plain": [
       "array([11., 11., 11., 11., inf])"
      ]
     },
     "execution_count": 36,
     "metadata": {},
     "output_type": "execute_result"
    }
   ],
   "source": [
    "a/b"
   ]
  },
  {
   "cell_type": "code",
   "execution_count": null,
   "id": "1d3159c5",
   "metadata": {},
   "outputs": [],
   "source": [
    "a = np.array([11,22,33,44,55])\n",
    "b = np.array([1,2,3,4,0])\n",
    "print(a)\n",
    "print(b)"
   ]
  },
  {
   "cell_type": "code",
   "execution_count": 37,
   "id": "c31dd683",
   "metadata": {},
   "outputs": [
    {
     "data": {
      "text/plain": [
       "array([0.09090909, 0.09090909, 0.09090909, 0.09090909, 0.        ])"
      ]
     },
     "execution_count": 37,
     "metadata": {},
     "output_type": "execute_result"
    }
   ],
   "source": [
    "b/a"
   ]
  },
  {
   "cell_type": "code",
   "execution_count": null,
   "id": "b14b08d4",
   "metadata": {},
   "outputs": [],
   "source": [
    "a = np.array([11,22,33,44,0])\n",
    "b = np.array([1,2,3,4,0])\n",
    "print(a)\n",
    "print(b)"
   ]
  },
  {
   "cell_type": "code",
   "execution_count": 38,
   "id": "2604616d",
   "metadata": {},
   "outputs": [
    {
     "name": "stderr",
     "output_type": "stream",
     "text": [
      "C:\\Users\\RAHUL\\AppData\\Local\\Temp\\ipykernel_25216\\1348051284.py:1: RuntimeWarning: divide by zero encountered in divide\n",
      "  a/b\n"
     ]
    },
    {
     "data": {
      "text/plain": [
       "array([11., 11., 11., 11., inf])"
      ]
     },
     "execution_count": 38,
     "metadata": {},
     "output_type": "execute_result"
    }
   ],
   "source": [
    "a/b"
   ]
  },
  {
   "cell_type": "code",
   "execution_count": 39,
   "id": "412fbea8",
   "metadata": {},
   "outputs": [
    {
     "name": "stdout",
     "output_type": "stream",
     "text": [
      "[11 22 33 44]\n",
      "[1 2 3 4 5]\n"
     ]
    }
   ],
   "source": [
    "a = np.array([11,22,33,44])\n",
    "b = np.array([1,2,3,4,5])\n",
    "print(a)\n",
    "print(b)"
   ]
  },
  {
   "cell_type": "code",
   "execution_count": 40,
   "id": "c4d6c5f1",
   "metadata": {},
   "outputs": [
    {
     "ename": "ValueError",
     "evalue": "operands could not be broadcast together with shapes (4,) (5,) ",
     "output_type": "error",
     "traceback": [
      "\u001b[1;31m---------------------------------------------------------------------------\u001b[0m",
      "\u001b[1;31mValueError\u001b[0m                                Traceback (most recent call last)",
      "Input \u001b[1;32mIn [40]\u001b[0m, in \u001b[0;36m<cell line: 1>\u001b[1;34m()\u001b[0m\n\u001b[1;32m----> 1\u001b[0m \u001b[43ma\u001b[49m\u001b[38;5;241;43m+\u001b[39;49m\u001b[43mb\u001b[49m\n",
      "\u001b[1;31mValueError\u001b[0m: operands could not be broadcast together with shapes (4,) (5,) "
     ]
    }
   ],
   "source": [
    "a+b"
   ]
  },
  {
   "cell_type": "code",
   "execution_count": null,
   "id": "4bebf0d3",
   "metadata": {},
   "outputs": [],
   "source": [
    "# https://numpy.org/doc/stable/user/quickstart.html#broadcasting-rules"
   ]
  },
  {
   "cell_type": "code",
   "execution_count": null,
   "id": "d5eb330f",
   "metadata": {},
   "outputs": [],
   "source": []
  },
  {
   "cell_type": "code",
   "execution_count": 55,
   "id": "0085a753",
   "metadata": {
    "scrolled": true
   },
   "outputs": [],
   "source": [
    "# /HW\n",
    "# 1. # slice the array to get below name\n",
    "s = np.array([['Priya', 'Rohit', 'Aryan'],\n",
    "       ['Neha', 'Avni', 'Akash'],\n",
    "       ['Arjun', 'Riya', 'Devanshi']])\n",
    "\n",
    "\n",
    "# 1. 'Priya', 'Rohit', 'Aryan'\n",
    "# 2. 'Riya','Devanshi'\n",
    "# 3. 'Neha', 'Avni', 'Akash' 'Arjun', 'Riya', 'Devanshi'\n",
    "# 4. 'Avni'\n",
    "# 5. 'Neha'\n",
    "\n",
    "# 2. Use masking to get the values\n",
    "score = np.random.randint(10,100,15).reshape(5,3)\n",
    "# 1. find all scores > 50\n",
    "# 2. find all scores <35"
   ]
  },
  {
   "cell_type": "code",
   "execution_count": 56,
   "id": "3a277ed7",
   "metadata": {},
   "outputs": [
    {
     "data": {
      "text/plain": [
       "array(['Priya', 'Rohit', 'Aryan'], dtype='<U8')"
      ]
     },
     "execution_count": 56,
     "metadata": {},
     "output_type": "execute_result"
    }
   ],
   "source": [
    "s[0]"
   ]
  },
  {
   "cell_type": "code",
   "execution_count": 57,
   "id": "5c9550a8",
   "metadata": {},
   "outputs": [
    {
     "data": {
      "text/plain": [
       "array([[65, 34, 78],\n",
       "       [70, 95, 68],\n",
       "       [67, 82, 44],\n",
       "       [48, 43, 32],\n",
       "       [25, 43, 44]])"
      ]
     },
     "execution_count": 57,
     "metadata": {},
     "output_type": "execute_result"
    }
   ],
   "source": [
    "score"
   ]
  },
  {
   "cell_type": "code",
   "execution_count": 58,
   "id": "0d9110f0",
   "metadata": {},
   "outputs": [
    {
     "data": {
      "text/plain": [
       "array([65, 78, 70, 95, 68, 67, 82])"
      ]
     },
     "execution_count": 58,
     "metadata": {},
     "output_type": "execute_result"
    }
   ],
   "source": [
    "score[score>50]"
   ]
  },
  {
   "cell_type": "code",
   "execution_count": null,
   "id": "e3f93ed4",
   "metadata": {},
   "outputs": [],
   "source": []
  },
  {
   "cell_type": "code",
   "execution_count": null,
   "id": "4103fd03",
   "metadata": {},
   "outputs": [],
   "source": [
    "score = np.random.randint(10,100,15).reshape(5,3)\n",
    "# 1. find all scores > 50\n",
    "# 2. find all scores <35\n"
   ]
  },
  {
   "cell_type": "code",
   "execution_count": null,
   "id": "5ffc86de",
   "metadata": {},
   "outputs": [],
   "source": [
    "score"
   ]
  },
  {
   "cell_type": "code",
   "execution_count": 71,
   "id": "0b6dd8f0",
   "metadata": {},
   "outputs": [
    {
     "data": {
      "text/plain": [
       "array([[72, 37, 33],\n",
       "       [92, 17, 67],\n",
       "       [70, 74, 88],\n",
       "       [12, 54, 11],\n",
       "       [11, 97, 78]])"
      ]
     },
     "execution_count": 71,
     "metadata": {},
     "output_type": "execute_result"
    }
   ],
   "source": [
    "np.random.randint(10,100,15).reshape(5,3)"
   ]
  },
  {
   "cell_type": "code",
   "execution_count": null,
   "id": "b6786315",
   "metadata": {},
   "outputs": [],
   "source": []
  },
  {
   "cell_type": "code",
   "execution_count": null,
   "id": "feb770b7",
   "metadata": {},
   "outputs": [],
   "source": []
  }
 ],
 "metadata": {
  "kernelspec": {
   "display_name": "Python 3 (ipykernel)",
   "language": "python",
   "name": "python3"
  },
  "language_info": {
   "codemirror_mode": {
    "name": "ipython",
    "version": 3
   },
   "file_extension": ".py",
   "mimetype": "text/x-python",
   "name": "python",
   "nbconvert_exporter": "python",
   "pygments_lexer": "ipython3",
   "version": "3.10.5"
  }
 },
 "nbformat": 4,
 "nbformat_minor": 5
}
