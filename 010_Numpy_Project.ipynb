{
 "cells": [
  {
   "cell_type": "code",
   "execution_count": 1,
   "id": "cf23d700",
   "metadata": {},
   "outputs": [],
   "source": [
    "import numpy as np"
   ]
  },
  {
   "cell_type": "code",
   "execution_count": 2,
   "id": "f519c5fc",
   "metadata": {},
   "outputs": [],
   "source": [
    "data = np.loadtxt('fitbit.txt',dtype='str')"
   ]
  },
  {
   "cell_type": "code",
   "execution_count": 3,
   "id": "ff699da9",
   "metadata": {},
   "outputs": [],
   "source": [
    "# numpy array is ?\n",
    "#  a. Homogenous array\n",
    "#  b . Hetrogenous array\n",
    "\n",
    "\n",
    "# List is Hetrogenous\n",
    "# numpy array is Homogenous"
   ]
  },
  {
   "cell_type": "code",
   "execution_count": 4,
   "id": "6b04b3d0",
   "metadata": {},
   "outputs": [
    {
     "data": {
      "text/plain": [
       "array([['06-10-2017', '5464', '200', '181', '6', '0', '68'],\n",
       "       ['07-10-2017', '7167', '200', '208', '6', '0', '68'],\n",
       "       ['08-10-2017', '9874', '300', '341', '5', '0', '68'],\n",
       "       ['09-10-2017', '4969', '100', '190', '8', '0', '68'],\n",
       "       ['10-10-2017', '8538', '300', '307', '5', '0', '68'],\n",
       "       ['11-10-2017', '9875', '300', '302', '5', '0', '68'],\n",
       "       ['12-10-2017', '4662', '100', '198', '8', '0', '68'],\n",
       "       ['13-10-2017', '6310', '200', '201', '6', '0', '68'],\n",
       "       ['14-10-2017', '7556', '200', '195', '6', '0', '68'],\n",
       "       ['15-10-2017', '9073', '300', '327', '5', '0', '68'],\n",
       "       ['16-10-2017', '9690', '300', '331', '5', '0', '68'],\n",
       "       ['17-10-2017', '9146', '300', '318', '5', '0', '68'],\n",
       "       ['18-10-2017', '9752', '300', '344', '5', '0', '68'],\n",
       "       ['19-10-2017', '6974', '200', '204', '6', '0', '68'],\n",
       "       ['20-10-2017', '5619', '200', '180', '6', '0', '68'],\n",
       "       ['21-10-2017', '6889', '200', '201', '6', '0', '68'],\n",
       "       ['22-10-2017', '8616', '300', '329', '5', '0', '68'],\n",
       "       ['23-10-2017', '9131', '300', '315', '5', '0', '68'],\n",
       "       ['24-10-2017', '4211', '100', '197', '8', '0', '68'],\n",
       "       ['25-10-2017', '4291', '100', '184', '8', '0', '68'],\n",
       "       ['26-10-2017', '8569', '300', '328', '5', '0', '68'],\n",
       "       ['27-10-2017', '9337', '300', '322', '5', '0', '68'],\n",
       "       ['28-10-2017', '8475', '300', '327', '5', '0', '68'],\n",
       "       ['29-10-2017', '4510', '100', '148', '8', '0', '68'],\n",
       "       ['30-10-2017', '6347', '200', '235', '6', '0', '68'],\n",
       "       ['31-10-2017', '5911', '200', '184', '6', '0', '68']], dtype='<U10')"
      ]
     },
     "execution_count": 4,
     "metadata": {},
     "output_type": "execute_result"
    }
   ],
   "source": [
    "data"
   ]
  },
  {
   "cell_type": "code",
   "execution_count": 5,
   "id": "be2d3c74",
   "metadata": {},
   "outputs": [
    {
     "name": "stdout",
     "output_type": "stream",
     "text": [
      "<class 'numpy.ndarray'>\n"
     ]
    }
   ],
   "source": [
    "print(type(data))"
   ]
  },
  {
   "cell_type": "code",
   "execution_count": 6,
   "id": "a3ecdc72",
   "metadata": {},
   "outputs": [
    {
     "data": {
      "text/plain": [
       "2"
      ]
     },
     "execution_count": 6,
     "metadata": {},
     "output_type": "execute_result"
    }
   ],
   "source": [
    "data.ndim"
   ]
  },
  {
   "cell_type": "code",
   "execution_count": 7,
   "id": "14275b23",
   "metadata": {},
   "outputs": [
    {
     "data": {
      "text/plain": [
       "(26, 7)"
      ]
     },
     "execution_count": 7,
     "metadata": {},
     "output_type": "execute_result"
    }
   ],
   "source": [
    "data.shape #rows : 26 and coln : 7"
   ]
  },
  {
   "cell_type": "code",
   "execution_count": 8,
   "id": "4a7c53ce",
   "metadata": {},
   "outputs": [
    {
     "data": {
      "text/plain": [
       "182"
      ]
     },
     "execution_count": 8,
     "metadata": {},
     "output_type": "execute_result"
    }
   ],
   "source": [
    "data.size"
   ]
  },
  {
   "cell_type": "code",
   "execution_count": 9,
   "id": "a0026337",
   "metadata": {},
   "outputs": [
    {
     "data": {
      "text/plain": [
       "array(['06-10-2017', '5464', '200', '181', '6', '0', '68'], dtype='<U10')"
      ]
     },
     "execution_count": 9,
     "metadata": {},
     "output_type": "execute_result"
    }
   ],
   "source": [
    "data[0]"
   ]
  },
  {
   "cell_type": "code",
   "execution_count": 10,
   "id": "5b3eaf2d",
   "metadata": {},
   "outputs": [
    {
     "data": {
      "text/plain": [
       "array(['07-10-2017', '7167', '200', '208', '6', '0', '68'], dtype='<U10')"
      ]
     },
     "execution_count": 10,
     "metadata": {},
     "output_type": "execute_result"
    }
   ],
   "source": [
    "data[1]"
   ]
  },
  {
   "cell_type": "markdown",
   "id": "64d3be52",
   "metadata": {},
   "source": [
    "# Data Cleaning"
   ]
  },
  {
   "cell_type": "code",
   "execution_count": 11,
   "id": "3cfb80fb",
   "metadata": {},
   "outputs": [],
   "source": [
    "# data has no header\n",
    "# all data is in STRING type"
   ]
  },
  {
   "cell_type": "code",
   "execution_count": 12,
   "id": "2e92e9a2",
   "metadata": {},
   "outputs": [
    {
     "data": {
      "text/plain": [
       "array([['06-10-2017', '5464', '200', '181', '6', '0', '68'],\n",
       "       ['07-10-2017', '7167', '200', '208', '6', '0', '68'],\n",
       "       ['08-10-2017', '9874', '300', '341', '5', '0', '68'],\n",
       "       ['09-10-2017', '4969', '100', '190', '8', '0', '68'],\n",
       "       ['10-10-2017', '8538', '300', '307', '5', '0', '68'],\n",
       "       ['11-10-2017', '9875', '300', '302', '5', '0', '68'],\n",
       "       ['12-10-2017', '4662', '100', '198', '8', '0', '68'],\n",
       "       ['13-10-2017', '6310', '200', '201', '6', '0', '68'],\n",
       "       ['14-10-2017', '7556', '200', '195', '6', '0', '68'],\n",
       "       ['15-10-2017', '9073', '300', '327', '5', '0', '68'],\n",
       "       ['16-10-2017', '9690', '300', '331', '5', '0', '68'],\n",
       "       ['17-10-2017', '9146', '300', '318', '5', '0', '68'],\n",
       "       ['18-10-2017', '9752', '300', '344', '5', '0', '68'],\n",
       "       ['19-10-2017', '6974', '200', '204', '6', '0', '68'],\n",
       "       ['20-10-2017', '5619', '200', '180', '6', '0', '68'],\n",
       "       ['21-10-2017', '6889', '200', '201', '6', '0', '68'],\n",
       "       ['22-10-2017', '8616', '300', '329', '5', '0', '68'],\n",
       "       ['23-10-2017', '9131', '300', '315', '5', '0', '68'],\n",
       "       ['24-10-2017', '4211', '100', '197', '8', '0', '68'],\n",
       "       ['25-10-2017', '4291', '100', '184', '8', '0', '68'],\n",
       "       ['26-10-2017', '8569', '300', '328', '5', '0', '68'],\n",
       "       ['27-10-2017', '9337', '300', '322', '5', '0', '68'],\n",
       "       ['28-10-2017', '8475', '300', '327', '5', '0', '68'],\n",
       "       ['29-10-2017', '4510', '100', '148', '8', '0', '68'],\n",
       "       ['30-10-2017', '6347', '200', '235', '6', '0', '68'],\n",
       "       ['31-10-2017', '5911', '200', '184', '6', '0', '68']], dtype='<U10')"
      ]
     },
     "execution_count": 12,
     "metadata": {},
     "output_type": "execute_result"
    }
   ],
   "source": [
    "data"
   ]
  },
  {
   "cell_type": "code",
   "execution_count": 13,
   "id": "a2a42c0c",
   "metadata": {},
   "outputs": [
    {
     "data": {
      "text/plain": [
       "array([['06-10-2017', '07-10-2017', '08-10-2017', '09-10-2017',\n",
       "        '10-10-2017', '11-10-2017', '12-10-2017', '13-10-2017',\n",
       "        '14-10-2017', '15-10-2017', '16-10-2017', '17-10-2017',\n",
       "        '18-10-2017', '19-10-2017', '20-10-2017', '21-10-2017',\n",
       "        '22-10-2017', '23-10-2017', '24-10-2017', '25-10-2017',\n",
       "        '26-10-2017', '27-10-2017', '28-10-2017', '29-10-2017',\n",
       "        '30-10-2017', '31-10-2017'],\n",
       "       ['5464', '7167', '9874', '4969', '8538', '9875', '4662', '6310',\n",
       "        '7556', '9073', '9690', '9146', '9752', '6974', '5619', '6889',\n",
       "        '8616', '9131', '4211', '4291', '8569', '9337', '8475', '4510',\n",
       "        '6347', '5911'],\n",
       "       ['200', '200', '300', '100', '300', '300', '100', '200', '200',\n",
       "        '300', '300', '300', '300', '200', '200', '200', '300', '300',\n",
       "        '100', '100', '300', '300', '300', '100', '200', '200'],\n",
       "       ['181', '208', '341', '190', '307', '302', '198', '201', '195',\n",
       "        '327', '331', '318', '344', '204', '180', '201', '329', '315',\n",
       "        '197', '184', '328', '322', '327', '148', '235', '184'],\n",
       "       ['6', '6', '5', '8', '5', '5', '8', '6', '6', '5', '5', '5', '5',\n",
       "        '6', '6', '6', '5', '5', '8', '8', '5', '5', '5', '8', '6', '6'],\n",
       "       ['0', '0', '0', '0', '0', '0', '0', '0', '0', '0', '0', '0', '0',\n",
       "        '0', '0', '0', '0', '0', '0', '0', '0', '0', '0', '0', '0', '0'],\n",
       "       ['68', '68', '68', '68', '68', '68', '68', '68', '68', '68', '68',\n",
       "        '68', '68', '68', '68', '68', '68', '68', '68', '68', '68', '68',\n",
       "        '68', '68', '68', '68']], dtype='<U10')"
      ]
     },
     "execution_count": 13,
     "metadata": {},
     "output_type": "execute_result"
    }
   ],
   "source": [
    "data.T"
   ]
  },
  {
   "cell_type": "code",
   "execution_count": 14,
   "id": "1276239d",
   "metadata": {},
   "outputs": [
    {
     "data": {
      "text/plain": [
       "array(['06-10-2017', '07-10-2017', '08-10-2017', '09-10-2017',\n",
       "       '10-10-2017', '11-10-2017', '12-10-2017', '13-10-2017',\n",
       "       '14-10-2017', '15-10-2017', '16-10-2017', '17-10-2017',\n",
       "       '18-10-2017', '19-10-2017', '20-10-2017', '21-10-2017',\n",
       "       '22-10-2017', '23-10-2017', '24-10-2017', '25-10-2017',\n",
       "       '26-10-2017', '27-10-2017', '28-10-2017', '29-10-2017',\n",
       "       '30-10-2017', '31-10-2017'], dtype='<U10')"
      ]
     },
     "execution_count": 14,
     "metadata": {},
     "output_type": "execute_result"
    }
   ],
   "source": [
    "data.T[0]"
   ]
  },
  {
   "cell_type": "code",
   "execution_count": 15,
   "id": "555d5ff2",
   "metadata": {},
   "outputs": [
    {
     "data": {
      "text/plain": [
       "array(['5464', '7167', '9874', '4969', '8538', '9875', '4662', '6310',\n",
       "       '7556', '9073', '9690', '9146', '9752', '6974', '5619', '6889',\n",
       "       '8616', '9131', '4211', '4291', '8569', '9337', '8475', '4510',\n",
       "       '6347', '5911'], dtype='<U10')"
      ]
     },
     "execution_count": 15,
     "metadata": {},
     "output_type": "execute_result"
    }
   ],
   "source": [
    "data.T[1]"
   ]
  },
  {
   "cell_type": "code",
   "execution_count": 16,
   "id": "3c05a14b",
   "metadata": {},
   "outputs": [
    {
     "name": "stdout",
     "output_type": "stream",
     "text": [
      "11\n",
      "22\n",
      "33\n"
     ]
    }
   ],
   "source": [
    "tup_1 = (11,22,33,44) #packing a tuple\n",
    "print(tup_1[0])\n",
    "print(tup_1[1])\n",
    "print(tup_1[2])"
   ]
  },
  {
   "cell_type": "code",
   "execution_count": 17,
   "id": "c105c56c",
   "metadata": {},
   "outputs": [
    {
     "name": "stdout",
     "output_type": "stream",
     "text": [
      "11\n",
      "22\n"
     ]
    }
   ],
   "source": [
    "a,b,c,d=tup_1 #unpacking a tuple\n",
    "print(a)\n",
    "print(b)"
   ]
  },
  {
   "cell_type": "code",
   "execution_count": 18,
   "id": "f80bcc63",
   "metadata": {},
   "outputs": [],
   "source": [
    "date ,step_count,mood,calories_burned,hours_of_sleep,bool_of_active,weight_kg=data.T"
   ]
  },
  {
   "cell_type": "code",
   "execution_count": 19,
   "id": "50766a13",
   "metadata": {},
   "outputs": [
    {
     "data": {
      "text/plain": [
       "array(['06-10-2017', '07-10-2017', '08-10-2017', '09-10-2017',\n",
       "       '10-10-2017', '11-10-2017', '12-10-2017', '13-10-2017',\n",
       "       '14-10-2017', '15-10-2017', '16-10-2017', '17-10-2017',\n",
       "       '18-10-2017', '19-10-2017', '20-10-2017', '21-10-2017',\n",
       "       '22-10-2017', '23-10-2017', '24-10-2017', '25-10-2017',\n",
       "       '26-10-2017', '27-10-2017', '28-10-2017', '29-10-2017',\n",
       "       '30-10-2017', '31-10-2017'], dtype='<U10')"
      ]
     },
     "execution_count": 19,
     "metadata": {},
     "output_type": "execute_result"
    }
   ],
   "source": [
    "date"
   ]
  },
  {
   "cell_type": "code",
   "execution_count": 20,
   "id": "a1477cb2",
   "metadata": {},
   "outputs": [
    {
     "data": {
      "text/plain": [
       "array(['5464', '7167', '9874', '4969', '8538', '9875', '4662', '6310',\n",
       "       '7556', '9073', '9690', '9146', '9752', '6974', '5619', '6889',\n",
       "       '8616', '9131', '4211', '4291', '8569', '9337', '8475', '4510',\n",
       "       '6347', '5911'], dtype='<U10')"
      ]
     },
     "execution_count": 20,
     "metadata": {},
     "output_type": "execute_result"
    }
   ],
   "source": [
    "step_count"
   ]
  },
  {
   "cell_type": "code",
   "execution_count": null,
   "id": "acb0763a",
   "metadata": {},
   "outputs": [],
   "source": []
  },
  {
   "cell_type": "markdown",
   "id": "0fc53205",
   "metadata": {},
   "source": [
    "# Data types in Numpy"
   ]
  },
  {
   "cell_type": "code",
   "execution_count": 21,
   "id": "9041b71b",
   "metadata": {},
   "outputs": [],
   "source": [
    "# https://numpy.org/doc/stable/user/basics.types.html"
   ]
  },
  {
   "cell_type": "code",
   "execution_count": 22,
   "id": "f0b4a1a1",
   "metadata": {},
   "outputs": [
    {
     "data": {
      "text/plain": [
       "dtype('<U10')"
      ]
     },
     "execution_count": 22,
     "metadata": {},
     "output_type": "execute_result"
    }
   ],
   "source": [
    "step_count.dtype"
   ]
  },
  {
   "cell_type": "code",
   "execution_count": 30,
   "id": "2d9b43eb",
   "metadata": {},
   "outputs": [
    {
     "data": {
      "text/plain": [
       "numpy.ndarray"
      ]
     },
     "execution_count": 30,
     "metadata": {},
     "output_type": "execute_result"
    }
   ],
   "source": [
    "type(step_count)"
   ]
  },
  {
   "cell_type": "code",
   "execution_count": null,
   "id": "35f9e481",
   "metadata": {},
   "outputs": [],
   "source": []
  },
  {
   "cell_type": "code",
   "execution_count": null,
   "id": "d8f3d64e",
   "metadata": {},
   "outputs": [],
   "source": []
  },
  {
   "cell_type": "code",
   "execution_count": 23,
   "id": "2e9d4b4d",
   "metadata": {},
   "outputs": [],
   "source": [
    "# changing the string data type to 'int'"
   ]
  },
  {
   "cell_type": "code",
   "execution_count": 24,
   "id": "164fdeca",
   "metadata": {},
   "outputs": [],
   "source": [
    "step_count = np.array(step_count,dtype='int')"
   ]
  },
  {
   "cell_type": "code",
   "execution_count": 25,
   "id": "4e0bd386",
   "metadata": {},
   "outputs": [
    {
     "data": {
      "text/plain": [
       "array([5464, 7167, 9874, 4969, 8538, 9875, 4662, 6310, 7556, 9073, 9690,\n",
       "       9146, 9752, 6974, 5619, 6889, 8616, 9131, 4211, 4291, 8569, 9337,\n",
       "       8475, 4510, 6347, 5911])"
      ]
     },
     "execution_count": 25,
     "metadata": {},
     "output_type": "execute_result"
    }
   ],
   "source": [
    "step_count"
   ]
  },
  {
   "cell_type": "code",
   "execution_count": 26,
   "id": "8caad36d",
   "metadata": {},
   "outputs": [
    {
     "data": {
      "text/plain": [
       "dtype('int32')"
      ]
     },
     "execution_count": 26,
     "metadata": {},
     "output_type": "execute_result"
    }
   ],
   "source": [
    "step_count.dtype"
   ]
  },
  {
   "cell_type": "code",
   "execution_count": 27,
   "id": "3597eb64",
   "metadata": {},
   "outputs": [],
   "source": [
    "# changing the   data types of other parameters to 'int'"
   ]
  },
  {
   "cell_type": "code",
   "execution_count": 32,
   "id": "2ead720e",
   "metadata": {},
   "outputs": [],
   "source": [
    "calories_burned = np.array(calories_burned,dtype='int')\n",
    "hours_of_sleep = np.array(hours_of_sleep,dtype='int')\n",
    "weight_kg = np.array(weight_kg,dtype='int')"
   ]
  },
  {
   "cell_type": "code",
   "execution_count": 33,
   "id": "97e20dbb",
   "metadata": {},
   "outputs": [
    {
     "data": {
      "text/plain": [
       "array([181, 208, 341, 190, 307, 302, 198, 201, 195, 327, 331, 318, 344,\n",
       "       204, 180, 201, 329, 315, 197, 184, 328, 322, 327, 148, 235, 184])"
      ]
     },
     "execution_count": 33,
     "metadata": {},
     "output_type": "execute_result"
    }
   ],
   "source": [
    "calories_burned"
   ]
  },
  {
   "cell_type": "code",
   "execution_count": 34,
   "id": "23c757b2",
   "metadata": {},
   "outputs": [
    {
     "data": {
      "text/plain": [
       "dtype('int32')"
      ]
     },
     "execution_count": 34,
     "metadata": {},
     "output_type": "execute_result"
    }
   ],
   "source": [
    "calories_burned.dtype"
   ]
  },
  {
   "cell_type": "code",
   "execution_count": 35,
   "id": "6a1afd89",
   "metadata": {},
   "outputs": [
    {
     "data": {
      "text/plain": [
       "array([6, 6, 5, 8, 5, 5, 8, 6, 6, 5, 5, 5, 5, 6, 6, 6, 5, 5, 8, 8, 5, 5,\n",
       "       5, 8, 6, 6])"
      ]
     },
     "execution_count": 35,
     "metadata": {},
     "output_type": "execute_result"
    }
   ],
   "source": [
    "hours_of_sleep"
   ]
  },
  {
   "cell_type": "code",
   "execution_count": 36,
   "id": "37357e14",
   "metadata": {},
   "outputs": [
    {
     "data": {
      "text/plain": [
       "dtype('int32')"
      ]
     },
     "execution_count": 36,
     "metadata": {},
     "output_type": "execute_result"
    }
   ],
   "source": [
    "hours_of_sleep.dtype"
   ]
  },
  {
   "cell_type": "code",
   "execution_count": 37,
   "id": "7c6e0229",
   "metadata": {},
   "outputs": [
    {
     "data": {
      "text/plain": [
       "array([68, 68, 68, 68, 68, 68, 68, 68, 68, 68, 68, 68, 68, 68, 68, 68, 68,\n",
       "       68, 68, 68, 68, 68, 68, 68, 68, 68])"
      ]
     },
     "execution_count": 37,
     "metadata": {},
     "output_type": "execute_result"
    }
   ],
   "source": [
    "weight_kg"
   ]
  },
  {
   "cell_type": "code",
   "execution_count": 38,
   "id": "53739560",
   "metadata": {},
   "outputs": [
    {
     "data": {
      "text/plain": [
       "dtype('int32')"
      ]
     },
     "execution_count": 38,
     "metadata": {},
     "output_type": "execute_result"
    }
   ],
   "source": [
    "weight_kg.dtype"
   ]
  },
  {
   "cell_type": "code",
   "execution_count": 28,
   "id": "33d99b67",
   "metadata": {},
   "outputs": [],
   "source": [
    "# focussing on 'mood' data\n",
    "# data is in numerical form but is repetative\n",
    "# checking the pattern of data "
   ]
  },
  {
   "cell_type": "code",
   "execution_count": 39,
   "id": "483710a0",
   "metadata": {},
   "outputs": [
    {
     "data": {
      "text/plain": [
       "array(['200', '200', '300', '100', '300', '300', '100', '200', '200',\n",
       "       '300', '300', '300', '300', '200', '200', '200', '300', '300',\n",
       "       '100', '100', '300', '300', '300', '100', '200', '200'],\n",
       "      dtype='<U10')"
      ]
     },
     "execution_count": 39,
     "metadata": {},
     "output_type": "execute_result"
    }
   ],
   "source": [
    "mood"
   ]
  },
  {
   "cell_type": "code",
   "execution_count": 40,
   "id": "8de80bbf",
   "metadata": {},
   "outputs": [],
   "source": [
    "# mood data is categorical"
   ]
  },
  {
   "cell_type": "code",
   "execution_count": 29,
   "id": "668b6964",
   "metadata": {},
   "outputs": [],
   "source": [
    "# 100 = sad\n",
    "# 200 =  neutral\n",
    "# 300 = happy"
   ]
  },
  {
   "cell_type": "code",
   "execution_count": 41,
   "id": "b9cc3936",
   "metadata": {},
   "outputs": [
    {
     "data": {
      "text/plain": [
       "array(['100', '200', '300'], dtype='<U10')"
      ]
     },
     "execution_count": 41,
     "metadata": {},
     "output_type": "execute_result"
    }
   ],
   "source": [
    "np.unique(mood)"
   ]
  },
  {
   "cell_type": "code",
   "execution_count": 42,
   "id": "24103c7d",
   "metadata": {},
   "outputs": [
    {
     "data": {
      "text/plain": [
       "array(['200', '200', '300', '100', '300', '300', '100', '200', '200',\n",
       "       '300', '300', '300', '300', '200', '200', '200', '300', '300',\n",
       "       '100', '100', '300', '300', '300', '100', '200', '200'],\n",
       "      dtype='<U10')"
      ]
     },
     "execution_count": 42,
     "metadata": {},
     "output_type": "execute_result"
    }
   ],
   "source": [
    "mood"
   ]
  },
  {
   "cell_type": "code",
   "execution_count": 49,
   "id": "9aef9660",
   "metadata": {},
   "outputs": [],
   "source": [
    "mood == '100' # 100 = sad\n",
    "mood[mood == '100'] = 'sad'"
   ]
  },
  {
   "cell_type": "code",
   "execution_count": 47,
   "id": "11a38ca4",
   "metadata": {},
   "outputs": [],
   "source": [
    "mood == '200' # 200 =  neutral\n",
    "mood[mood == '200'] = 'neutral'"
   ]
  },
  {
   "cell_type": "code",
   "execution_count": 48,
   "id": "957d14d6",
   "metadata": {},
   "outputs": [],
   "source": [
    "mood == '300' # 300 = happy\n",
    "mood[mood == '300'] = 'happy'"
   ]
  },
  {
   "cell_type": "code",
   "execution_count": 50,
   "id": "2170946c",
   "metadata": {},
   "outputs": [
    {
     "data": {
      "text/plain": [
       "array(['neutral', 'neutral', 'happy', 'sad', 'happy', 'happy', 'sad',\n",
       "       'neutral', 'neutral', 'happy', 'happy', 'happy', 'happy',\n",
       "       'neutral', 'neutral', 'neutral', 'happy', 'happy', 'sad', 'sad',\n",
       "       'happy', 'happy', 'happy', 'sad', 'neutral', 'neutral'],\n",
       "      dtype='<U10')"
      ]
     },
     "execution_count": 50,
     "metadata": {},
     "output_type": "execute_result"
    }
   ],
   "source": [
    "mood"
   ]
  },
  {
   "cell_type": "code",
   "execution_count": null,
   "id": "4cdc23bb",
   "metadata": {},
   "outputs": [],
   "source": []
  },
  {
   "cell_type": "markdown",
   "id": "a7ae8018",
   "metadata": {},
   "source": [
    "# Analysing data"
   ]
  },
  {
   "cell_type": "code",
   "execution_count": null,
   "id": "b35fc72c",
   "metadata": {},
   "outputs": [],
   "source": []
  },
  {
   "cell_type": "code",
   "execution_count": null,
   "id": "125e5c6c",
   "metadata": {},
   "outputs": [],
   "source": []
  },
  {
   "cell_type": "code",
   "execution_count": null,
   "id": "4291012b",
   "metadata": {},
   "outputs": [],
   "source": []
  },
  {
   "cell_type": "code",
   "execution_count": null,
   "id": "ff015187",
   "metadata": {},
   "outputs": [],
   "source": []
  },
  {
   "cell_type": "code",
   "execution_count": null,
   "id": "de82ad9d",
   "metadata": {},
   "outputs": [],
   "source": []
  },
  {
   "cell_type": "code",
   "execution_count": null,
   "id": "508f9524",
   "metadata": {},
   "outputs": [],
   "source": []
  }
 ],
 "metadata": {
  "kernelspec": {
   "display_name": "Python 3 (ipykernel)",
   "language": "python",
   "name": "python3"
  },
  "language_info": {
   "codemirror_mode": {
    "name": "ipython",
    "version": 3
   },
   "file_extension": ".py",
   "mimetype": "text/x-python",
   "name": "python",
   "nbconvert_exporter": "python",
   "pygments_lexer": "ipython3",
   "version": "3.10.5"
  }
 },
 "nbformat": 4,
 "nbformat_minor": 5
}
